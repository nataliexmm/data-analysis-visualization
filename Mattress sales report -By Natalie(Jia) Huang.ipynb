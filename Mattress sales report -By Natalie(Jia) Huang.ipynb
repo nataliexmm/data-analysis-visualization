{
 "cells": [
  {
   "cell_type": "code",
   "execution_count": 2,
   "metadata": {},
   "outputs": [
    {
     "name": "stdout",
     "output_type": "stream",
     "text": [
      "Total rows: 213\n",
      "['dateordered', 'datereturned', 'orderstatus', 'orders']\n"
     ]
    },
    {
     "data": {
      "image/png": "[encoded data removed]",
      "text/plain": [
       "<Figure size 432x288 with 1 Axes>"
      ]
     },
     "metadata": {},
     "output_type": "display_data"
    }
   ],
   "source": [
    "import pandas as pd\n",
    "import numpy as np\n",
    "import matplotlib.pyplot as plt\n",
    "\n",
    "# Read the file\n",
    "data = pd.read_excel(r'/home/natalie/Documents/Career/Past Data Files/XLS_takehome_NA_(1).xlsx')\n",
    "\n",
    "# Output the number of rows\n",
    "print(\"Total rows: {0}\".format(len(data)))\n",
    "\n",
    "# See which headers are available\n",
    "print(list(data))\n",
    "\n",
    "# Convert to data frame\n",
    "df = pd.DataFrame(data)\n",
    "\n",
    "# Filter out returned items\n",
    "returnitem = df['orderstatus']=='returned'\n",
    "\n",
    "# Group returns by month and datereturned instead of dateordered column is used\n",
    "returnitem['month'] =df['datereturned'].dt.month\n",
    "result = returnitem.groupby('month').size().to_frame(name = 'sum').reset_index()\n",
    "\n",
    "# Create a visualization \n",
    "performance = result['sum'].values.tolist()\n",
    "\n",
    "# Put January 2019 data in the end of list\n",
    "performance.append(performance[0])\n",
    "performance.remove(performance[0])\n",
    "objects = ('Aug','Sep','Oct','Nov','Dec','Jan')\n",
    "y_pos = np.arange(len(objects))\n",
    "plt.bar(y_pos, performance, align='center', alpha=0.5)\n",
    "plt.xticks(y_pos, objects)\n",
    "plt.ylabel('returned number by month')\n",
    "plt.title('Return Trend Anaysis')\n",
    " \n",
    "plt.show()\n",
    "\n",
    "# Return increased from August 2018 to December 2018 and decreased from December 2018 to January 2019\n",
    "\n"
   ]
  }
 ],
 "metadata": {
  "kernelspec": {
   "display_name": "Python 3",
   "language": "python",
   "name": "python3"
  },
  "language_info": {
   "codemirror_mode": {
    "name": "ipython",
    "version": 3
   },
   "file_extension": ".py",
   "mimetype": "text/x-python",
   "name": "python",
   "nbconvert_exporter": "python",
   "pygments_lexer": "ipython3",
   "version": "3.6.5"
  }
 },
 "nbformat": 4,
 "nbformat_minor": 2
}
